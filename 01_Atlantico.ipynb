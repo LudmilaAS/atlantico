{
  "nbformat": 4,
  "nbformat_minor": 0,
  "metadata": {
    "colab": {
      "provenance": []
    },
    "kernelspec": {
      "name": "python3",
      "display_name": "Python 3"
    },
    "language_info": {
      "name": "python"
    }
  },
  "cells": [
    {
      "cell_type": "code",
      "execution_count": 10,
      "metadata": {
        "colab": {
          "base_uri": "https://localhost:8080/"
        },
        "id": "12k4NUQrvZNQ",
        "outputId": "086f30cf-d4eb-4850-ea21-e1613eb87a14"
      },
      "outputs": [
        {
          "output_type": "execute_result",
          "data": {
            "text/plain": [
              "[2, 3]"
            ]
          },
          "metadata": {},
          "execution_count": 10
        }
      ],
      "source": [
        "# 1. Escreva uma função que receba uma lista de números e retorne outra lista com os números primos presentes.\n",
        "def n_primos(lista):\n",
        "    primo = []\n",
        "    for num in lista:\n",
        "        if num > 1:\n",
        "            for i in range(2, int(num**0.5) + 1):\n",
        "                if (num % i) == 0:\n",
        "                    break\n",
        "            else:\n",
        "                primo.append(num)\n",
        "    return primo\n",
        "\n",
        "n_primos([1,2,3,4])"
      ]
    },
    {
      "cell_type": "code",
      "source": [
        "#2. Escreva uma função que receba duas listas e retorne outra lista com os elementos que estão presentes em apenas uma das listas.\n",
        "def elementos_unicos(lista1, lista2):\n",
        "    exclusivo = []\n",
        "\n",
        "    for elemento in lista1:\n",
        "        if elemento not in lista2:\n",
        "            exclusivo.append(elemento)\n",
        "\n",
        "    for elemento in lista2:\n",
        "        if elemento not in lista1:\n",
        "            exclusivo.append(elemento)\n",
        "\n",
        "    return exclusivo\n",
        "\n",
        "elementos_unicos([1,2],[2,3])\n"
      ],
      "metadata": {
        "colab": {
          "base_uri": "https://localhost:8080/"
        },
        "id": "WTmKT_sQ2R3i",
        "outputId": "0f61afef-988e-4db7-d3b5-45d1a9029681"
      },
      "execution_count": 11,
      "outputs": [
        {
          "output_type": "execute_result",
          "data": {
            "text/plain": [
              "[1, 3]"
            ]
          },
          "metadata": {},
          "execution_count": 11
        }
      ]
    },
    {
      "cell_type": "code",
      "source": [
        "#3. Dada uma lista de números inteiros, escreva uma função para encontrar o segundo maior valor na lista.\n",
        "def segundo_maior_numero(lista):\n",
        "    if len(lista) < 2:\n",
        "        return \"A lista precisa de no mínimo 2 elementos.\"\n",
        "\n",
        "    maior = segundo_maior_numero = float('-inf')\n",
        "\n",
        "    for num in lista:\n",
        "        if num > maior:\n",
        "            segundo_maior_numero = maior\n",
        "            maior = num\n",
        "        elif num > segundo_maior_numero and num != maior:\n",
        "            segundo_maior_numero = num\n",
        "\n",
        "    if segundo_maior_numero == float('-inf'):\n",
        "        return \"Não há segundo maior na lista.\"\n",
        "\n",
        "    return segundo_maior_numero\n",
        "\n",
        "segundo_maior_numero([5,6,7,8,9])\n",
        "\n"
      ],
      "metadata": {
        "colab": {
          "base_uri": "https://localhost:8080/"
        },
        "id": "E4f18m6G2ul3",
        "outputId": "738849a1-7806-477e-d69a-1292f46fab11"
      },
      "execution_count": 12,
      "outputs": [
        {
          "output_type": "execute_result",
          "data": {
            "text/plain": [
              "8"
            ]
          },
          "metadata": {},
          "execution_count": 12
        }
      ]
    },
    {
      "cell_type": "code",
      "source": [
        "#4. Crie uma função que receba uma lista de tuplas, cada uma contendo o nome e a idade de uma pessoa, e retorne a lista ordenada pelo nome das pessoas em ordem alfabética.\n",
        "def ordenar_nome_alfabetico(lista_tuplas):\n",
        "    return sorted(lista_tuplas, key=lambda pessoa: pessoa[0])\n",
        "\n",
        "ordenar_nome_alfabetico([(\"Zenaida\",40),(\"Amélia\",60),(\"Maria\",20)])"
      ],
      "metadata": {
        "colab": {
          "base_uri": "https://localhost:8080/"
        },
        "id": "SWcH_xW24HiI",
        "outputId": "51d63687-3c3d-496c-ee4c-5631793e2a58"
      },
      "execution_count": 16,
      "outputs": [
        {
          "output_type": "execute_result",
          "data": {
            "text/plain": [
              "[('Amélia', 60), ('Maria', 20), ('Zenaida', 40)]"
            ]
          },
          "metadata": {},
          "execution_count": 16
        }
      ]
    },
    {
      "cell_type": "code",
      "source": [
        "#5. Dada uma lista contendo números inteiros, como você encontraria o maior número e o menor número dessa lista em uma única passagem?\n",
        "def maior_e_menor(lista):\n",
        "    if not lista:\n",
        "        return None, None  # Lista vazia\n",
        "\n",
        "    menor = maior = lista[0]  # Inicializa com o primeiro elemento da lista\n",
        "\n",
        "    for num in lista:\n",
        "        if num < menor:\n",
        "            menor = num\n",
        "        elif num > maior:\n",
        "            maior = num\n",
        "\n",
        "    return menor, maior\n",
        "\n",
        "maior_e_menor([100,-30,40])\n"
      ],
      "metadata": {
        "colab": {
          "base_uri": "https://localhost:8080/"
        },
        "id": "4cyx23AT53MA",
        "outputId": "0f557635-58c2-4359-de1b-42bfb5b826be"
      },
      "execution_count": 22,
      "outputs": [
        {
          "output_type": "execute_result",
          "data": {
            "text/plain": [
              "(-30, 100)"
            ]
          },
          "metadata": {},
          "execution_count": 22
        }
      ]
    },
    {
      "cell_type": "code",
      "source": [
        "#6. Utilizando pandas, como realizar a leitura de um arquivo CSV em um DataFrame e exibir as primeiras linhas?\n",
        "import pandas as pd\n",
        "\n",
        "# Caminho do arquivo CSV\n",
        "from google.colab import drive\n",
        "drive.mount('/content/drive')\n",
        "local_arquivo ='/content/drive/MyDrive/Atlantico/Bases/df_novo.csv'\n",
        "\n",
        "# Realiza a leitura do arquivo CSV em um DataFrame\n",
        "dataframe = pd.read_csv(local_arquivo)\n",
        "\n",
        "# Exibe as primeiras linhas do DataFrame\n",
        "print(dataframe.head())\n"
      ],
      "metadata": {
        "colab": {
          "base_uri": "https://localhost:8080/"
        },
        "id": "4occLjWP6uz-",
        "outputId": "1d720ecc-367d-4616-e799-74367011fe35"
      },
      "execution_count": 5,
      "outputs": [
        {
          "output_type": "stream",
          "name": "stdout",
          "text": [
            "   Unnamed: 0 Regiao - Sigla Estado - Sigla    Municipio  \\\n",
            "0           0             SE             SP    GUARULHOS   \n",
            "1           1             SE             SP    GUARULHOS   \n",
            "2           2             SE             SP    GUARULHOS   \n",
            "3          20              S             RS  SANTA MARIA   \n",
            "4          22              S             RS  SANTA MARIA   \n",
            "\n",
            "                                     Revenda               Nome da Rua  \\\n",
            "0                   AUTO POSTO SAKAMOTO LTDA  RODOVIA PRESIDENTE DUTRA   \n",
            "1                   AUTO POSTO SAKAMOTO LTDA  RODOVIA PRESIDENTE DUTRA   \n",
            "2                   AUTO POSTO SAKAMOTO LTDA  RODOVIA PRESIDENTE DUTRA   \n",
            "3  SANTA LUCIA COMERCIO E PAVIMENTACOES LTDA            RODOVIA RS 509   \n",
            "4  SANTA LUCIA COMERCIO E PAVIMENTACOES LTDA            RODOVIA RS 509   \n",
            "\n",
            "  Numero Rua          Complemento        Bairro        Cep   Produto  \\\n",
            "0        S/N  KM 210,5-SENT SP/RJ    BONSUCESSO  07178-580  GASOLINA   \n",
            "1        S/N  KM 210,5-SENT SP/RJ    BONSUCESSO  07178-580    ETANOL   \n",
            "2        S/N  KM 210,5-SENT SP/RJ    BONSUCESSO  07178-580    DIESEL   \n",
            "3       1200                KM 03  JOÃO GOULART  97095-000  GASOLINA   \n",
            "4       1200                KM 03  JOÃO GOULART  97095-000    DIESEL   \n",
            "\n",
            "  Data da Coleta  Valor Venda  Valor Compra Unidade de Medida  \\\n",
            "0     2004-05-11        1.967        1.6623        R$ / litro   \n",
            "1     2004-05-11        0.899        0.6282        R$ / litro   \n",
            "2     2004-05-11        1.299        1.1704        R$ / litro   \n",
            "3     2004-05-10        2.250        1.6950        R$ / litro   \n",
            "4     2004-05-10        1.450        1.1500        R$ / litro   \n",
            "\n",
            "                       Bandeira   Lucro  \n",
            "0  PETROBRAS DISTRIBUIDORA S.A.  0.3047  \n",
            "1  PETROBRAS DISTRIBUIDORA S.A.  0.2708  \n",
            "2  PETROBRAS DISTRIBUIDORA S.A.  0.1286  \n",
            "3  PETROBRAS DISTRIBUIDORA S.A.  0.5550  \n",
            "4  PETROBRAS DISTRIBUIDORA S.A.  0.3000  \n"
          ]
        }
      ]
    },
    {
      "cell_type": "code",
      "source": [
        "#7. Utilizando pandas, como selecionar uma coluna específica e filtrar linhas em um “DataFrame” com base em uma condição?\n",
        "import pandas as pd\n",
        "\n",
        "# arquivo CSV\n",
        "local_arquivo ='/content/drive/MyDrive/Atlantico/Bases/df_novo.csv'\n",
        "\n",
        "# Realiza a leitura do arquivo CSV em um DataFrame\n",
        "dataframe = pd.read_csv(local_arquivo)\n",
        "\n",
        "# Seleciona uma coluna específica, por exemplo, 'nome'\n",
        "coluna_produto = dataframe['Produto']\n",
        "\n",
        "# Filtra linhas com base em uma condição\n",
        "condicao = dataframe['Lucro'] > 0.30\n",
        "linhas_filtradas = dataframe[condicao]\n",
        "\n",
        "# Exibe a coluna 'Produto' e as linhas filtradas\n",
        "print(\"Coluna 'Produto':\")\n",
        "print(coluna_produto)\n",
        "\n",
        "print(\"\\nLinhas filtradas (Lucro > 30%):\")\n",
        "print(linhas_filtradas)\n"
      ],
      "metadata": {
        "colab": {
          "base_uri": "https://localhost:8080/"
        },
        "id": "dTusda5v9FZq",
        "outputId": "dda48888-6e7f-4428-fa26-d88921a3ce09"
      },
      "execution_count": 7,
      "outputs": [
        {
          "output_type": "stream",
          "name": "stdout",
          "text": [
            "Coluna 'Produto':\n",
            "0        GASOLINA\n",
            "1          ETANOL\n",
            "2          DIESEL\n",
            "3        GASOLINA\n",
            "4          DIESEL\n",
            "           ...   \n",
            "59989    GASOLINA\n",
            "59990      DIESEL\n",
            "59991    GASOLINA\n",
            "59992      DIESEL\n",
            "59993      DIESEL\n",
            "Name: Produto, Length: 59994, dtype: object\n",
            "\n",
            "Linhas filtradas (Lucro > 30%):\n",
            "       Unnamed: 0 Regiao - Sigla Estado - Sigla                    Municipio  \\\n",
            "0               0             SE             SP                    GUARULHOS   \n",
            "3              20              S             RS                  SANTA MARIA   \n",
            "5              26              N             AC              CRUZEIRO DO SUL   \n",
            "7              28              N             AC              CRUZEIRO DO SUL   \n",
            "9              30              N             AC              CRUZEIRO DO SUL   \n",
            "...           ...            ...            ...                          ...   \n",
            "59984      281510              N             RR                 RORAINOPOLIS   \n",
            "59987      281517              N             RR                        CANTA   \n",
            "59988      281518              N             RR                        CANTA   \n",
            "59989      281521             NE             BA  LIVRAMENTO DE NOSSA SENHORA   \n",
            "59991      281526             NE             BA  LIVRAMENTO DE NOSSA SENHORA   \n",
            "\n",
            "                                         Revenda  \\\n",
            "0                       AUTO POSTO SAKAMOTO LTDA   \n",
            "3      SANTA LUCIA COMERCIO E PAVIMENTACOES LTDA   \n",
            "5                  E. D. SILVA & FILHO LTDA - ME   \n",
            "7                  AUTO POSTO IGARAPE PRETO LTDA   \n",
            "9          CAMELI COMERCIAL E DISTRIBUIDORA LTDA   \n",
            "...                                          ...   \n",
            "59984            A C DE SOUSA LUBRIFICANTES LTDA   \n",
            "59987                           P. A. DE F. NETO   \n",
            "59988                           P. A. DE F. NETO   \n",
            "59989            IRMAS TRINDADE DE OLIVEIRA LTDA   \n",
            "59991              AUTO POSTO PIRES PEREIRA LTDA   \n",
            "\n",
            "                               Nome da Rua Numero Rua             Complemento  \\\n",
            "0                 RODOVIA PRESIDENTE DUTRA        S/N     KM 210,5-SENT SP/RJ   \n",
            "3                           RODOVIA RS 509       1200                   KM 03   \n",
            "5             MARGEM ESQUERDA DO RIO JURUA        S/N               FLUTUANTE   \n",
            "7                    RODOVIA BR 364, KM 76      28271                SALA  02   \n",
            "9       ESTRADA DO AEROPORTO INTERNACIONAL        S/N  KM 2 - PRÉDIO 2 SALA H   \n",
            "...                                    ...        ...                     ...   \n",
            "59984                       RODOVIA BR 174        S/N               KM    463   \n",
            "59987  RODOVIA RR 444 ENTRONCAMENTO BR 170        S/N           KM 30 LOTE 28   \n",
            "59988  RODOVIA RR 444 ENTRONCAMENTO BR 170        S/N           KM 30 LOTE 28   \n",
            "59989                      AVENIDA BRUMADO        272                    CASA   \n",
            "59991           AVENIDA LINDEMBERG CARDOSO        667                  COMODO   \n",
            "\n",
            "                         Bairro        Cep   Produto Data da Coleta  \\\n",
            "0                    BONSUCESSO  07178-580  GASOLINA     2004-05-11   \n",
            "3                  JOÃO GOULART  97095-000  GASOLINA     2004-05-10   \n",
            "5                        CENTRO  69980-000  GASOLINA     2004-05-10   \n",
            "7                    ZONA RURAL  69980-000  GASOLINA     2004-05-10   \n",
            "9      NOSSA SENHORA DAS GRAÇAS  69980-000  GASOLINA     2004-05-10   \n",
            "...                         ...        ...       ...            ...   \n",
            "59984       DISTRITO INDUSTRIAL  69373-000  GASOLINA     2004-06-29   \n",
            "59987     FAZENDA FORTALEZA III  69390-000  GASOLINA     2004-06-29   \n",
            "59988     FAZENDA FORTALEZA III  69390-000    DIESEL     2004-06-29   \n",
            "59989                   TAQUARI  46140-000  GASOLINA     2004-06-28   \n",
            "59991                   TAQUARI  46140-000  GASOLINA     2004-06-28   \n",
            "\n",
            "       Valor Venda  Valor Compra Unidade de Medida  \\\n",
            "0            1.967        1.6623        R$ / litro   \n",
            "3            2.250        1.6950        R$ / litro   \n",
            "5            2.410        1.8799        R$ / litro   \n",
            "7            2.350        1.8722        R$ / litro   \n",
            "9            2.400        1.8750        R$ / litro   \n",
            "...            ...           ...               ...   \n",
            "59984        2.150        1.7795        R$ / litro   \n",
            "59987        2.030        1.7080        R$ / litro   \n",
            "59988        1.700        1.3800        R$ / litro   \n",
            "59989        2.230        1.7900        R$ / litro   \n",
            "59991        2.200        1.8900        R$ / litro   \n",
            "\n",
            "                           Bandeira   Lucro  \n",
            "0      PETROBRAS DISTRIBUIDORA S.A.  0.3047  \n",
            "3      PETROBRAS DISTRIBUIDORA S.A.  0.5550  \n",
            "5                            BRANCA  0.5301  \n",
            "7                            BRANCA  0.4778  \n",
            "9      PETROBRAS DISTRIBUIDORA S.A.  0.5250  \n",
            "...                             ...     ...  \n",
            "59984                        BRANCA  0.3705  \n",
            "59987                        BRANCA  0.3220  \n",
            "59988                        BRANCA  0.3200  \n",
            "59989                        BRANCA  0.4400  \n",
            "59991                    PETROBAHIA  0.3100  \n",
            "\n",
            "[17485 rows x 17 columns]\n"
          ]
        }
      ]
    },
    {
      "cell_type": "code",
      "source": [
        "#8. Utilizando pandas, como lidar com valores ausentes (NaN) em um DataFrame?\n",
        "import pandas as pd\n",
        "\n",
        "# arquivo CSV\n",
        "local_arquivo ='/content/drive/MyDrive/Atlantico/Bases/df_novo.csv'\n",
        "\n",
        "# Realiza a leitura do arquivo CSV em um DataFrame\n",
        "dataframe = pd.read_csv(local_arquivo)\n",
        "\n",
        "# Identifica valores ausentes no DataFrame\n",
        "valores_ausentes = dataframe.isnull()\n",
        "\n",
        "print(valores_ausentes)\n",
        "\n",
        "# Remove linhas com pelo menos um valor ausente\n",
        "dataframe_sem_ausentes_linhas = dataframe.dropna()\n",
        "\n",
        "# Remove colunas com pelo menos um valor ausente\n",
        "dataframe_sem_ausentes_colunas = dataframe.dropna(axis=1)"
      ],
      "metadata": {
        "colab": {
          "base_uri": "https://localhost:8080/"
        },
        "id": "kBu3vzvr9UIc",
        "outputId": "0e339a89-969c-473a-ae4b-9c70dff43f64"
      },
      "execution_count": 8,
      "outputs": [
        {
          "output_type": "stream",
          "name": "stdout",
          "text": [
            "       Unnamed: 0  Regiao - Sigla  Estado - Sigla  Municipio  Revenda  \\\n",
            "0           False           False           False      False    False   \n",
            "1           False           False           False      False    False   \n",
            "2           False           False           False      False    False   \n",
            "3           False           False           False      False    False   \n",
            "4           False           False           False      False    False   \n",
            "...           ...             ...             ...        ...      ...   \n",
            "59989       False           False           False      False    False   \n",
            "59990       False           False           False      False    False   \n",
            "59991       False           False           False      False    False   \n",
            "59992       False           False           False      False    False   \n",
            "59993       False           False           False      False    False   \n",
            "\n",
            "       Nome da Rua  Numero Rua  Complemento  Bairro    Cep  Produto  \\\n",
            "0            False       False        False   False  False    False   \n",
            "1            False       False        False   False  False    False   \n",
            "2            False       False        False   False  False    False   \n",
            "3            False       False        False   False  False    False   \n",
            "4            False       False        False   False  False    False   \n",
            "...            ...         ...          ...     ...    ...      ...   \n",
            "59989        False       False        False   False  False    False   \n",
            "59990        False       False        False   False  False    False   \n",
            "59991        False       False        False   False  False    False   \n",
            "59992        False       False        False   False  False    False   \n",
            "59993        False       False        False   False  False    False   \n",
            "\n",
            "       Data da Coleta  Valor Venda  Valor Compra  Unidade de Medida  Bandeira  \\\n",
            "0               False        False         False              False     False   \n",
            "1               False        False         False              False     False   \n",
            "2               False        False         False              False     False   \n",
            "3               False        False         False              False     False   \n",
            "4               False        False         False              False     False   \n",
            "...               ...          ...           ...                ...       ...   \n",
            "59989           False        False         False              False     False   \n",
            "59990           False        False         False              False     False   \n",
            "59991           False        False         False              False     False   \n",
            "59992           False        False         False              False     False   \n",
            "59993           False        False         False              False     False   \n",
            "\n",
            "       Lucro  \n",
            "0      False  \n",
            "1      False  \n",
            "2      False  \n",
            "3      False  \n",
            "4      False  \n",
            "...      ...  \n",
            "59989  False  \n",
            "59990  False  \n",
            "59991  False  \n",
            "59992  False  \n",
            "59993  False  \n",
            "\n",
            "[59994 rows x 17 columns]\n"
          ]
        }
      ]
    },
    {
      "cell_type": "code",
      "source": [
        "#9. Complete o código\n",
        "import matplotlib.pyplot as plt\n",
        "import numpy as np\n",
        "\n",
        "fig, axs = plt.subplots(ncols=2, nrows=2, figsize=(5.5, 3.5),\n",
        "                        constrained_layout=True)\n",
        "\n",
        "for row in range(2):\n",
        "    for col in range(2):\n",
        "        axs[row, col].annotate(f'axs[{row}, {col}]', (0.5, 0.5),\n",
        "                               transform=axs[row, col].transAxes,\n",
        "                               ha='center', va='center', fontsize=18,\n",
        "                               color='darkgrey')\n",
        "fig.suptitle('plt.subplots()')\n",
        "\n",
        "plt.show()\n"
      ],
      "metadata": {
        "colab": {
          "base_uri": "https://localhost:8080/",
          "height": 378
        },
        "id": "RtmVqrNa9w5f",
        "outputId": "b8daa9d4-73c5-43f6-d18b-2ec94565e01d"
      },
      "execution_count": 9,
      "outputs": [
        {
          "output_type": "display_data",
          "data": {
            "text/plain": [
              "<Figure size 550x350 with 4 Axes>"
            ],
            "image/png": "[encoded data removed]"
          },
          "metadata": {}
        }
      ]
    },
    {
      "cell_type": "code",
      "source": [
        "#10. Complete o código\n",
        "import numpy as np\n",
        "import matplotlib as mpl\n",
        "import matplotlib.pyplot as plt\n",
        "\n",
        "x = np.linspace(-2 * np.pi, 2 * np.pi, 100)\n",
        "y = np.sin(x)\n",
        "\n",
        "fig, ax = plt.subplots()\n",
        "ax.plot(x, y)\n"
      ],
      "metadata": {
        "colab": {
          "base_uri": "https://localhost:8080/",
          "height": 447
        },
        "id": "t9qqUqjQ9zq6",
        "outputId": "0210605a-fe7e-40be-a36e-df14f30e705e"
      },
      "execution_count": 10,
      "outputs": [
        {
          "output_type": "execute_result",
          "data": {
            "text/plain": [
              "[<matplotlib.lines.Line2D at 0x7d01e3b109d0>]"
            ]
          },
          "metadata": {},
          "execution_count": 10
        },
        {
          "output_type": "display_data",
          "data": {
            "text/plain": [
              "<Figure size 640x480 with 1 Axes>"
            ],
            "image/png": "[encoded data removed]"
          },
          "metadata": {}
        }
      ]
    }
  ]
}